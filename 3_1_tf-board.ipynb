{
 "cells": [
  {
   "cell_type": "code",
   "execution_count": null,
   "metadata": {},
   "outputs": [],
   "source": [
    "#!pip install azureml-tensorboard"
   ]
  },
  {
   "cell_type": "markdown",
   "metadata": {},
   "source": [
    "## Initialize Workspace\n",
    "\n",
    "Initialize a workspace object from persisted configuration."
   ]
  },
  {
   "cell_type": "code",
   "execution_count": null,
   "metadata": {},
   "outputs": [],
   "source": [
    "import azureml.core\n",
    "from azureml.core import Workspace, Experiment\n",
    "from azureml.core.authentication import InteractiveLoginAuthentication\n",
    "\n",
    "interactive_auth = InteractiveLoginAuthentication(tenant_id=\"a0a6d112-ab35-410a-b961-1280cf758bfc\")\n",
    "ws = Workspace.from_config(auth=interactive_auth)\n",
    "\n",
    "print('Workspace name: ' + ws.name, \n",
    "      'Azure region: ' + ws.location, \n",
    "      'Subscription id: ' + ws.subscription_id, \n",
    "      'Resource group: ' + ws.resource_group, sep='\\n')"
   ]
  },
  {
   "cell_type": "markdown",
   "metadata": {},
   "source": [
    "## Set experiment name and start the run"
   ]
  },
  {
   "cell_type": "code",
   "execution_count": null,
   "metadata": {},
   "outputs": [],
   "source": [
    "experiment_name = 'export-to-tensorboard'\n",
    "exp = Experiment(ws, experiment_name)\n",
    "root_run = exp.start_logging()"
   ]
  },
  {
   "cell_type": "code",
   "execution_count": null,
   "metadata": {},
   "outputs": [],
   "source": [
    "from sklearn.datasets import load_diabetes\n",
    "from sklearn.linear_model import Ridge\n",
    "from sklearn.metrics import mean_squared_error\n",
    "from sklearn.model_selection import train_test_split\n",
    "\n",
    "X, y = load_diabetes(return_X_y=True)\n",
    "\n",
    "columns = ['age', 'gender', 'bmi', 'bp', 's1', 's2', 's3', 's4', 's5', 's6']\n",
    "\n",
    "x_train, x_test, y_train, y_test = train_test_split(X, y, test_size=0.2, random_state=0)\n",
    "data = {\n",
    "    \"train\":{\"x\":x_train, \"y\":y_train},        \n",
    "    \"test\":{\"x\":x_test, \"y\":y_test}\n",
    "}"
   ]
  },
  {
   "cell_type": "code",
   "execution_count": null,
   "metadata": {},
   "outputs": [],
   "source": [
    "# Example experiment\n",
    "from tqdm import tqdm\n",
    "\n",
    "alphas = [.1, .2, .3, .4, .5, .6 , .7]\n",
    "\n",
    "# try a bunch of alpha values in a Linear Regression (Ridge) model\n",
    "for alpha in tqdm(alphas):\n",
    "    # create a bunch of child runs\n",
    "    with root_run.child_run(\"alpha\" + str(alpha)) as run:\n",
    "        reg = Ridge(alpha=alpha)\n",
    "        reg.fit(data[\"train\"][\"x\"], data[\"train\"][\"y\"])\n",
    "        \n",
    "        preds = reg.predict(data[\"test\"][\"x\"])\n",
    "        mse = mean_squared_error(preds, data[\"test\"][\"y\"])\n",
    "        # End train and eval\n",
    "\n",
    "        # log alpha, mean_squared_error and feature names in run history\n",
    "        root_run.log(\"alpha\", alpha)\n",
    "        root_run.log(\"mse\", mse)"
   ]
  },
  {
   "cell_type": "markdown",
   "metadata": {},
   "source": [
    "## Export Run History to Tensorboard logs"
   ]
  },
  {
   "cell_type": "code",
   "execution_count": null,
   "metadata": {
    "tags": [
     "tensorboard-export-sample"
    ]
   },
   "outputs": [],
   "source": [
    "# Export Run History to Tensorboard logs\n",
    "from azureml.tensorboard.export import export_to_tensorboard\n",
    "import os\n",
    "\n",
    "logdir = 'exportedTBlogs'\n",
    "log_path = os.path.join(os.getcwd(), logdir)\n",
    "try:\n",
    "    os.stat(log_path)\n",
    "except os.error:\n",
    "    os.mkdir(log_path)\n",
    "print(logdir)\n",
    "\n",
    "# export run history for the project\n",
    "export_to_tensorboard(root_run, logdir)\n",
    "\n",
    "# or export a particular run\n",
    "# export_to_tensorboard(run, logdir)"
   ]
  },
  {
   "cell_type": "code",
   "execution_count": null,
   "metadata": {},
   "outputs": [],
   "source": [
    "root_run.complete()"
   ]
  },
  {
   "cell_type": "markdown",
   "metadata": {},
   "source": [
    "## Start Tensorboard\n",
    "\n",
    "Or you can start the Tensorboard outside this notebook to view the result"
   ]
  },
  {
   "cell_type": "code",
   "execution_count": null,
   "metadata": {},
   "outputs": [],
   "source": [
    "from azureml.tensorboard import Tensorboard\n",
    "\n",
    "# The Tensorboard constructor takes an array of runs, so be sure and pass it in as a single-element array here\n",
    "tb = Tensorboard([], local_root=logdir, port=6006)\n",
    "\n",
    "# If successful, start() returns a string with the URI of the instance.\n",
    "tb.start()"
   ]
  },
  {
   "cell_type": "markdown",
   "metadata": {},
   "source": [
    "## Stop Tensorboard\n",
    "\n",
    "When you're done, make sure to call the `stop()` method of the Tensorboard object."
   ]
  },
  {
   "cell_type": "code",
   "execution_count": null,
   "metadata": {},
   "outputs": [],
   "source": [
    "tb.stop()"
   ]
  }
 ],
 "metadata": {
  "authors": [
   {
    "name": "roastala"
   }
  ],
  "category": "training",
  "compute": [
   "None"
  ],
  "datasets": [
   "None"
  ],
  "deployment": [
   "None"
  ],
  "exclude_from_index": false,
  "framework": [
   "TensorFlow"
  ],
  "friendly_name": "Using Tensorboard",
  "index_order": 1,
  "kernelspec": {
   "display_name": "Python 3",
   "language": "python",
   "name": "python3"
  },
  "language_info": {
   "codemirror_mode": {
    "name": "ipython",
    "version": 3
   },
   "file_extension": ".py",
   "mimetype": "text/x-python",
   "name": "python",
   "nbconvert_exporter": "python",
   "pygments_lexer": "ipython3",
   "version": "3.8.3"
  },
  "tags": [
   "None"
  ],
  "task": "Export the run history as Tensorboard logs"
 },
 "nbformat": 4,
 "nbformat_minor": 4
}
